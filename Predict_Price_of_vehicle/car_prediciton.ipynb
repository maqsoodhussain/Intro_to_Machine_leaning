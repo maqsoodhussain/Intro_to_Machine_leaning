{
 "cells": [
  {
   "cell_type": "code",
   "execution_count": 1,
   "id": "f9d16e41-db7b-4bfe-8a9d-f53173c55992",
   "metadata": {},
   "outputs": [],
   "source": [
    "import pandas as pd"
   ]
  },
  {
   "cell_type": "code",
   "execution_count": 2,
   "id": "1a539ba5-ec8d-4857-8b7a-c6aa383fa11f",
   "metadata": {},
   "outputs": [
    {
     "name": "stdout",
     "output_type": "stream",
     "text": [
      "   id    brand          model  model_year  milage fuel_type  \\\n",
      "0   0     Ford   F-150 Lariat        2018   74349  Gasoline   \n",
      "1   1      BMW          335 i        2007   80000  Gasoline   \n",
      "2   2   Jaguar      XF Luxury        2009   91491  Gasoline   \n",
      "3   3      BMW   X7 xDrive40i        2022    2437    Hybrid   \n",
      "4   4  Pontiac  Firebird Base        2001  111000  Gasoline   \n",
      "\n",
      "                                              engine  \\\n",
      "0      375.0HP 3.5L V6 Cylinder Engine Gasoline Fuel   \n",
      "1  300.0HP 3.0L Straight 6 Cylinder Engine Gasoli...   \n",
      "2       300.0HP 4.2L 8 Cylinder Engine Gasoline Fuel   \n",
      "3  335.0HP 3.0L Straight 6 Cylinder Engine Gasoli...   \n",
      "4      200.0HP 3.8L V6 Cylinder Engine Gasoline Fuel   \n",
      "\n",
      "                     transmission ext_col int_col       accident clean_title  \\\n",
      "0                    10-Speed A/T    Blue    Gray  None reported         Yes   \n",
      "1                     6-Speed M/T   Black   Black  None reported         Yes   \n",
      "2                     6-Speed A/T  Purple   Beige  None reported         Yes   \n",
      "3  Transmission w/Dual Shift Mode    Gray   Brown  None reported         Yes   \n",
      "4                             A/T   White   Black  None reported         Yes   \n",
      "\n",
      "   price  \n",
      "0  11000  \n",
      "1   8250  \n",
      "2  15000  \n",
      "3  63500  \n",
      "4   7850  \n"
     ]
    }
   ],
   "source": [
    "# Load the datasets\n",
    "train_df = pd.read_csv('train.csv')\n",
    "test_df = pd.read_csv('test.csv')\n",
    "\n",
    "# Display the first few rows of the training data\n",
    "print(train_df.head())"
   ]
  },
  {
   "cell_type": "code",
   "execution_count": 3,
   "id": "73b7a63a-9e68-4597-9063-3ebee2ee4600",
   "metadata": {},
   "outputs": [],
   "source": [
    "# Fill missing values for numerical columns\n",
    "numerical_cols = train_df.select_dtypes(include=['int64', 'float64']).columns.drop('price')\n",
    "train_df[numerical_cols] = train_df[numerical_cols].fillna(train_df[numerical_cols].median())\n",
    "test_df[numerical_cols] = test_df[numerical_cols].fillna(test_df[numerical_cols].median())\n",
    "\n",
    "# Fill missing values for categorical columns\n",
    "categorical_cols = train_df.select_dtypes(include=['object']).columns\n",
    "train_df[categorical_cols] = train_df[categorical_cols].fillna(train_df[categorical_cols].mode().iloc[0])\n",
    "test_df[categorical_cols] = test_df[categorical_cols].fillna(test_df[categorical_cols].mode().iloc[0])\n"
   ]
  },
  {
   "cell_type": "code",
   "execution_count": 4,
   "id": "f9ed58b2-55b7-45c6-9586-704822229a2c",
   "metadata": {},
   "outputs": [],
   "source": [
    "# Create new feature: car_age\n",
    "train_df['car_age'] = 2024 - train_df['model_year']\n",
    "test_df['car_age'] = 2024 - test_df['model_year']\n",
    "train_df.drop(['model_year'], axis=1, inplace=True)\n",
    "test_df.drop(['model_year'], axis=1, inplace=True)\n"
   ]
  },
  {
   "cell_type": "code",
   "execution_count": 5,
   "id": "911038d6-841d-406c-b95b-00b0fdc403e2",
   "metadata": {},
   "outputs": [],
   "source": [
    "# Convert categorical variables to dummy/indicator variables\n",
    "train_df = pd.get_dummies(train_df)\n",
    "test_df = pd.get_dummies(test_df)\n",
    "\n",
    "# Ensure the train and test datasets have the same columns\n",
    "train_df, test_df = train_df.align(test_df, join='left', axis=1)\n",
    "test_df.fillna(0, inplace=True)\n"
   ]
  },
  {
   "cell_type": "code",
   "execution_count": 6,
   "id": "45a23328-339d-4132-84cf-a2c47b994ac3",
   "metadata": {},
   "outputs": [],
   "source": [
    "from sklearn.model_selection import train_test_split\n",
    "\n",
    "# Features and target\n",
    "X = train_df.drop('price', axis=1)\n",
    "y = train_df['price']\n",
    "\n",
    "# Split into training and validation sets\n",
    "X_train, X_val, y_train, y_val = train_test_split(X, y, test_size=0.2, random_state=42)\n"
   ]
  },
  {
   "cell_type": "code",
   "execution_count": null,
   "id": "c2377544-8bbc-4fc3-b9bd-41f6a9a3fb36",
   "metadata": {},
   "outputs": [],
   "source": [
    "from sklearn.ensemble import RandomForestRegressor\n",
    "\n",
    "# Initialize and train the model\n",
    "model = RandomForestRegressor(random_state=42)\n",
    "model.fit(X_train, y_train)\n"
   ]
  },
  {
   "cell_type": "code",
   "execution_count": null,
   "id": "1b81d245-e810-4619-897d-5828023c91f7",
   "metadata": {},
   "outputs": [],
   "source": [
    "from sklearn.metrics import mean_squared_error\n",
    "import numpy as np\n",
    "\n",
    "# Predict on the validation set\n",
    "y_pred = model.predict(X_val)\n",
    "\n",
    "# Calculate RMSE\n",
    "rmse = np.sqrt(mean_squared_error(y_val, y_pred))\n",
    "print(f'Root Mean Squared Error: {rmse}')\n"
   ]
  },
  {
   "cell_type": "code",
   "execution_count": null,
   "id": "10714556-685b-4852-82ef-c80e69e0bed7",
   "metadata": {},
   "outputs": [],
   "source": [
    "# Predict on the test data\n",
    "test_predictions = model.predict(test_df)\n",
    "\n",
    "# Create a DataFrame for submission\n",
    "submission = pd.DataFrame({\n",
    "    'Id': test_df.index,  # Assuming the index should be used for Id\n",
    "    'Price': test_predictions\n",
    "})\n",
    "\n",
    "# Save the submission to a CSV file\n",
    "submission.to_csv('submission.csv', index=False)\n"
   ]
  }
 ],
 "metadata": {
  "kernelspec": {
   "display_name": "Python 3 (ipykernel)",
   "language": "python",
   "name": "python3"
  },
  "language_info": {
   "codemirror_mode": {
    "name": "ipython",
    "version": 3
   },
   "file_extension": ".py",
   "mimetype": "text/x-python",
   "name": "python",
   "nbconvert_exporter": "python",
   "pygments_lexer": "ipython3",
   "version": "3.12.3"
  }
 },
 "nbformat": 4,
 "nbformat_minor": 5
}
