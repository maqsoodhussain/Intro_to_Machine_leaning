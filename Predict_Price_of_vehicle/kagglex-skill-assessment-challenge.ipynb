{
 "cells": [
  {
   "cell_type": "markdown",
   "id": "250ac040",
   "metadata": {
    "_cell_guid": "b1076dfc-b9ad-4769-8c92-a6c4dae69d19",
    "_uuid": "8f2839f25d086af736a60e9eeb907d3b93b6e0e5",
    "papermill": {
     "duration": 0.009229,
     "end_time": "2024-06-03T03:18:58.025037",
     "exception": false,
     "start_time": "2024-06-03T03:18:58.015808",
     "status": "completed"
    },
    "tags": []
   },
   "source": [
    "# Importing necessary libraries"
   ]
  },
  {
   "cell_type": "code",
   "execution_count": 1,
   "id": "f43e4dbe",
   "metadata": {
    "papermill": {
     "duration": 1.970384,
     "end_time": "2024-06-03T03:19:00.004026",
     "exception": false,
     "start_time": "2024-06-03T03:18:58.033642",
     "status": "completed"
    },
    "tags": []
   },
   "outputs": [],
   "source": [
    "import pandas as pd\n",
    "from sklearn.model_selection import train_test_split, cross_val_score, GridSearchCV\n",
    "from sklearn.preprocessing import OneHotEncoder, StandardScaler\n",
    "from sklearn.compose import ColumnTransformer\n",
    "from sklearn.pipeline import Pipeline\n",
    "from sklearn.ensemble import RandomForestRegressor, GradientBoostingRegressor\n",
    "from sklearn.linear_model import LinearRegression\n",
    "from sklearn.metrics import mean_squared_error\n",
    "import numpy as np"
   ]
  },
  {
   "cell_type": "markdown",
   "id": "f921e29f",
   "metadata": {
    "papermill": {
     "duration": 0.008388,
     "end_time": "2024-06-03T03:19:00.021046",
     "exception": false,
     "start_time": "2024-06-03T03:19:00.012658",
     "status": "completed"
    },
    "tags": []
   },
   "source": [
    "# Load the datasets"
   ]
  },
  {
   "cell_type": "code",
   "execution_count": 2,
   "id": "72542e37",
   "metadata": {
    "papermill": {
     "duration": 0.427818,
     "end_time": "2024-06-03T03:19:00.457376",
     "exception": false,
     "start_time": "2024-06-03T03:19:00.029558",
     "status": "completed"
    },
    "tags": []
   },
   "outputs": [],
   "source": [
    "train_df = pd.read_csv('train.csv')\n",
    "test_df = pd.read_csv('test.csv')"
   ]
  },
  {
   "cell_type": "markdown",
   "id": "6f1635db",
   "metadata": {
    "papermill": {
     "duration": 0.008253,
     "end_time": "2024-06-03T03:19:00.474486",
     "exception": false,
     "start_time": "2024-06-03T03:19:00.466233",
     "status": "completed"
    },
    "tags": []
   },
   "source": [
    "# Display the first few rows of the training data"
   ]
  },
  {
   "cell_type": "code",
   "execution_count": 3,
   "id": "ac4ba7a7",
   "metadata": {
    "papermill": {
     "duration": 0.031623,
     "end_time": "2024-06-03T03:19:00.514586",
     "exception": false,
     "start_time": "2024-06-03T03:19:00.482963",
     "status": "completed"
    },
    "tags": []
   },
   "outputs": [
    {
     "name": "stdout",
     "output_type": "stream",
     "text": [
      "   id    brand          model  model_year  milage fuel_type  \\\n",
      "0   0     Ford   F-150 Lariat        2018   74349  Gasoline   \n",
      "1   1      BMW          335 i        2007   80000  Gasoline   \n",
      "2   2   Jaguar      XF Luxury        2009   91491  Gasoline   \n",
      "3   3      BMW   X7 xDrive40i        2022    2437    Hybrid   \n",
      "4   4  Pontiac  Firebird Base        2001  111000  Gasoline   \n",
      "\n",
      "                                              engine  \\\n",
      "0      375.0HP 3.5L V6 Cylinder Engine Gasoline Fuel   \n",
      "1  300.0HP 3.0L Straight 6 Cylinder Engine Gasoli...   \n",
      "2       300.0HP 4.2L 8 Cylinder Engine Gasoline Fuel   \n",
      "3  335.0HP 3.0L Straight 6 Cylinder Engine Gasoli...   \n",
      "4      200.0HP 3.8L V6 Cylinder Engine Gasoline Fuel   \n",
      "\n",
      "                     transmission ext_col int_col       accident clean_title  \\\n",
      "0                    10-Speed A/T    Blue    Gray  None reported         Yes   \n",
      "1                     6-Speed M/T   Black   Black  None reported         Yes   \n",
      "2                     6-Speed A/T  Purple   Beige  None reported         Yes   \n",
      "3  Transmission w/Dual Shift Mode    Gray   Brown  None reported         Yes   \n",
      "4                             A/T   White   Black  None reported         Yes   \n",
      "\n",
      "   price  \n",
      "0  11000  \n",
      "1   8250  \n",
      "2  15000  \n",
      "3  63500  \n",
      "4   7850  \n"
     ]
    }
   ],
   "source": [
    "print(train_df.head())"
   ]
  },
  {
   "cell_type": "markdown",
   "id": "bdc4eae2",
   "metadata": {
    "papermill": {
     "duration": 0.009275,
     "end_time": "2024-06-03T03:19:00.532844",
     "exception": false,
     "start_time": "2024-06-03T03:19:00.523569",
     "status": "completed"
    },
    "tags": []
   },
   "source": [
    "# Check for missing values in the training data\n"
   ]
  },
  {
   "cell_type": "code",
   "execution_count": 4,
   "id": "9068d593",
   "metadata": {
    "papermill": {
     "duration": 0.066668,
     "end_time": "2024-06-03T03:19:00.607972",
     "exception": false,
     "start_time": "2024-06-03T03:19:00.541304",
     "status": "completed"
    },
    "tags": []
   },
   "outputs": [
    {
     "name": "stdout",
     "output_type": "stream",
     "text": [
      "Missing values:\n",
      "id              0\n",
      "brand           0\n",
      "model           0\n",
      "model_year      0\n",
      "milage          0\n",
      "fuel_type       0\n",
      "engine          0\n",
      "transmission    0\n",
      "ext_col         0\n",
      "int_col         0\n",
      "accident        0\n",
      "clean_title     0\n",
      "price           0\n",
      "dtype: int64\n"
     ]
    }
   ],
   "source": [
    "missing_values = train_df.isnull().sum()\n",
    "print(f'Missing values:\\n{missing_values}')\n"
   ]
  },
  {
   "cell_type": "markdown",
   "id": "d8ca75e2",
   "metadata": {
    "papermill": {
     "duration": 0.008417,
     "end_time": "2024-06-03T03:19:00.625057",
     "exception": false,
     "start_time": "2024-06-03T03:19:00.616640",
     "status": "completed"
    },
    "tags": []
   },
   "source": [
    "# Define the features and target"
   ]
  },
  {
   "cell_type": "code",
   "execution_count": 5,
   "id": "8711f6d9",
   "metadata": {
    "papermill": {
     "duration": 0.024019,
     "end_time": "2024-06-03T03:19:00.657706",
     "exception": false,
     "start_time": "2024-06-03T03:19:00.633687",
     "status": "completed"
    },
    "tags": []
   },
   "outputs": [],
   "source": [
    "X = train_df.drop(columns=['id', 'price'])\n",
    "y = train_df['price']"
   ]
  },
  {
   "cell_type": "markdown",
   "id": "827dcfa8",
   "metadata": {
    "papermill": {
     "duration": 0.008633,
     "end_time": "2024-06-03T03:19:00.674925",
     "exception": false,
     "start_time": "2024-06-03T03:19:00.666292",
     "status": "completed"
    },
    "tags": []
   },
   "source": [
    "# Preprocessing for numerical data"
   ]
  },
  {
   "cell_type": "code",
   "execution_count": 6,
   "id": "2f6a1a1c",
   "metadata": {
    "papermill": {
     "duration": 0.015859,
     "end_time": "2024-06-03T03:19:00.699244",
     "exception": false,
     "start_time": "2024-06-03T03:19:00.683385",
     "status": "completed"
    },
    "tags": []
   },
   "outputs": [],
   "source": [
    "numerical_features = ['model_year', 'milage']\n",
    "numerical_transformer = StandardScaler()"
   ]
  },
  {
   "cell_type": "markdown",
   "id": "79ed51c3",
   "metadata": {
    "papermill": {
     "duration": 0.008457,
     "end_time": "2024-06-03T03:19:00.716356",
     "exception": false,
     "start_time": "2024-06-03T03:19:00.707899",
     "status": "completed"
    },
    "tags": []
   },
   "source": [
    "# Preprocessing for categorical data"
   ]
  },
  {
   "cell_type": "code",
   "execution_count": 7,
   "id": "dc1990ef",
   "metadata": {
    "papermill": {
     "duration": 0.016143,
     "end_time": "2024-06-03T03:19:00.740886",
     "exception": false,
     "start_time": "2024-06-03T03:19:00.724743",
     "status": "completed"
    },
    "tags": []
   },
   "outputs": [],
   "source": [
    "categorical_features = ['brand', 'model', 'fuel_type', 'engine', 'transmission', 'ext_col', 'int_col', 'accident']\n",
    "categorical_transformer = OneHotEncoder(handle_unknown='ignore')"
   ]
  },
  {
   "cell_type": "markdown",
   "id": "565b7fbf",
   "metadata": {
    "papermill": {
     "duration": 0.008486,
     "end_time": "2024-06-03T03:19:00.757864",
     "exception": false,
     "start_time": "2024-06-03T03:19:00.749378",
     "status": "completed"
    },
    "tags": []
   },
   "source": [
    "# Bundle preprocessing for numerical and categorical data"
   ]
  },
  {
   "cell_type": "code",
   "execution_count": 8,
   "id": "88755a0d",
   "metadata": {
    "papermill": {
     "duration": 0.01642,
     "end_time": "2024-06-03T03:19:00.782786",
     "exception": false,
     "start_time": "2024-06-03T03:19:00.766366",
     "status": "completed"
    },
    "tags": []
   },
   "outputs": [],
   "source": [
    "preprocessor = ColumnTransformer(\n",
    "    transformers=[\n",
    "        ('num', numerical_transformer, numerical_features),\n",
    "        ('cat', categorical_transformer, categorical_features)\n",
    "    ])"
   ]
  },
  {
   "cell_type": "markdown",
   "id": "e241dd21",
   "metadata": {
    "papermill": {
     "duration": 0.008834,
     "end_time": "2024-06-03T03:19:00.800486",
     "exception": false,
     "start_time": "2024-06-03T03:19:00.791652",
     "status": "completed"
    },
    "tags": []
   },
   "source": [
    "# Define a function to evaluate a model"
   ]
  },
  {
   "cell_type": "code",
   "execution_count": 9,
   "id": "5dbc0709",
   "metadata": {
    "papermill": {
     "duration": 0.017515,
     "end_time": "2024-06-03T03:19:00.826745",
     "exception": false,
     "start_time": "2024-06-03T03:19:00.809230",
     "status": "completed"
    },
    "tags": []
   },
   "outputs": [],
   "source": [
    "def evaluate_model(model, X, y):\n",
    "    pipeline = Pipeline(steps=[('preprocessor', preprocessor), ('model', model)])\n",
    "    cv_scores = cross_val_score(pipeline, X, y, cv=5, scoring='neg_mean_squared_error')\n",
    "    rmse_scores = np.sqrt(-cv_scores)\n",
    "    print(f'RMSE scores: {rmse_scores}')\n",
    "    print(f'Mean RMSE: {np.mean(rmse_scores)}')\n",
    "    return np.mean(rmse_scores)"
   ]
  },
  {
   "cell_type": "markdown",
   "id": "7c982540",
   "metadata": {
    "papermill": {
     "duration": 0.008299,
     "end_time": "2024-06-03T03:19:00.843866",
     "exception": false,
     "start_time": "2024-06-03T03:19:00.835567",
     "status": "completed"
    },
    "tags": []
   },
   "source": [
    "# Evaluate Random Forest Regressor"
   ]
  },
  {
   "cell_type": "code",
   "execution_count": null,
   "id": "0528e497",
   "metadata": {
    "papermill": {
     "duration": 4215.420472,
     "end_time": "2024-06-03T04:29:16.273339",
     "exception": false,
     "start_time": "2024-06-03T03:19:00.852867",
     "status": "completed"
    },
    "tags": []
   },
   "outputs": [],
   "source": [
    "rf_rmse = evaluate_model(RandomForestRegressor(n_estimators=100, random_state=0), X, y)"
   ]
  },
  {
   "cell_type": "markdown",
   "id": "42b516e2",
   "metadata": {
    "papermill": {
     "duration": 0.008402,
     "end_time": "2024-06-03T04:29:16.290503",
     "exception": false,
     "start_time": "2024-06-03T04:29:16.282101",
     "status": "completed"
    },
    "tags": []
   },
   "source": [
    "# Evaluate Gradient Boosting Regressor"
   ]
  },
  {
   "cell_type": "code",
   "execution_count": null,
   "id": "79a503f3",
   "metadata": {
    "papermill": {
     "duration": 30.878816,
     "end_time": "2024-06-03T04:29:47.178006",
     "exception": false,
     "start_time": "2024-06-03T04:29:16.299190",
     "status": "completed"
    },
    "tags": []
   },
   "outputs": [],
   "source": [
    "print(\"Gradient Boosting Regressor:\")\n",
    "gb_rmse = evaluate_model(GradientBoostingRegressor(n_estimators=10, random_state=0), X, y)\n"
   ]
  },
  {
   "cell_type": "markdown",
   "id": "7d5e6322",
   "metadata": {
    "papermill": {
     "duration": 0.008516,
     "end_time": "2024-06-03T04:29:47.195219",
     "exception": false,
     "start_time": "2024-06-03T04:29:47.186703",
     "status": "completed"
    },
    "tags": []
   },
   "source": [
    "# Evaluate Linear Regression"
   ]
  },
  {
   "cell_type": "code",
   "execution_count": null,
   "id": "ecaef877",
   "metadata": {
    "papermill": {
     "duration": 21.040705,
     "end_time": "2024-06-03T04:30:08.245066",
     "exception": false,
     "start_time": "2024-06-03T04:29:47.204361",
     "status": "completed"
    },
    "tags": []
   },
   "outputs": [],
   "source": [
    "print(\"Linear Regression:\")\n",
    "lr_rmse = evaluate_model(LinearRegression(), X, y)"
   ]
  },
  {
   "cell_type": "markdown",
   "id": "8a89c86d",
   "metadata": {
    "papermill": {
     "duration": 0.01043,
     "end_time": "2024-06-03T04:30:08.269158",
     "exception": false,
     "start_time": "2024-06-03T04:30:08.258728",
     "status": "completed"
    },
    "tags": []
   },
   "source": [
    "# Compare RMSE scores"
   ]
  },
  {
   "cell_type": "code",
   "execution_count": null,
   "id": "9dc38b7c",
   "metadata": {
    "papermill": {
     "duration": 0.022043,
     "end_time": "2024-06-03T04:30:08.300484",
     "exception": false,
     "start_time": "2024-06-03T04:30:08.278441",
     "status": "completed"
    },
    "tags": []
   },
   "outputs": [],
   "source": [
    "print(f'Random Forest RMSE: {rf_rmse}')\n",
    "print(f'Gradient Boosting RMSE: {gb_rmse}')\n",
    "print(f'Linear Regression RMSE: {lr_rmse}')"
   ]
  },
  {
   "cell_type": "markdown",
   "id": "9570b50c",
   "metadata": {
    "papermill": {
     "duration": 0.009272,
     "end_time": "2024-06-03T04:30:08.321136",
     "exception": false,
     "start_time": "2024-06-03T04:30:08.311864",
     "status": "completed"
    },
    "tags": []
   },
   "source": [
    "# Perform hyperparameter tuning for the best model (Random Forest in this case)"
   ]
  },
  {
   "cell_type": "code",
   "execution_count": null,
   "id": "cf77523b",
   "metadata": {
    "papermill": {
     "duration": 0.019229,
     "end_time": "2024-06-03T04:30:08.350241",
     "exception": false,
     "start_time": "2024-06-03T04:30:08.331012",
     "status": "completed"
    },
    "tags": []
   },
   "outputs": [],
   "source": [
    "param_grid = {\n",
    "    'model__n_estimators': [100, 200],\n",
    "    'model__max_depth': [None, 10, 20],\n",
    "    'model__min_samples_split': [2, 5]\n",
    "}"
   ]
  },
  {
   "cell_type": "code",
   "execution_count": null,
   "id": "9975bf5c",
   "metadata": {
    "papermill": {
     "duration": 0.0219,
     "end_time": "2024-06-03T04:30:08.382138",
     "exception": false,
     "start_time": "2024-06-03T04:30:08.360238",
     "status": "completed"
    },
    "tags": []
   },
   "outputs": [],
   "source": [
    "pipeline = Pipeline(steps=[('preprocessor', preprocessor),\n",
    "                           ('model', RandomForestRegressor(random_state=0))])\n"
   ]
  },
  {
   "cell_type": "code",
   "execution_count": null,
   "id": "d90e8b7f",
   "metadata": {
    "papermill": {
     "duration": 24535.455229,
     "end_time": "2024-06-03T11:19:03.850399",
     "exception": false,
     "start_time": "2024-06-03T04:30:08.395170",
     "status": "completed"
    },
    "tags": []
   },
   "outputs": [],
   "source": [
    "grid_search = GridSearchCV(pipeline, param_grid, cv=5, scoring='neg_mean_squared_error')\n",
    "grid_search.fit(X, y)"
   ]
  },
  {
   "cell_type": "markdown",
   "id": "421ee7f4",
   "metadata": {
    "papermill": {
     "duration": 0.009532,
     "end_time": "2024-06-03T11:19:03.869614",
     "exception": false,
     "start_time": "2024-06-03T11:19:03.860082",
     "status": "completed"
    },
    "tags": []
   },
   "source": [
    "# Print the best parameters and best RMSE score"
   ]
  },
  {
   "cell_type": "code",
   "execution_count": null,
   "id": "09af5ef4",
   "metadata": {
    "papermill": {
     "duration": 0.017723,
     "end_time": "2024-06-03T11:19:03.896957",
     "exception": false,
     "start_time": "2024-06-03T11:19:03.879234",
     "status": "completed"
    },
    "tags": []
   },
   "outputs": [],
   "source": [
    "print(f'Best parameters: {grid_search.best_params_}')\n",
    "print(f'Best RMSE: {np.sqrt(-grid_search.best_score_)}')"
   ]
  },
  {
   "cell_type": "markdown",
   "id": "7866b62c",
   "metadata": {
    "papermill": {
     "duration": 0.009819,
     "end_time": "2024-06-03T11:19:03.916571",
     "exception": false,
     "start_time": "2024-06-03T11:19:03.906752",
     "status": "completed"
    },
    "tags": []
   },
   "source": [
    "# Fit the best model on the entire training data"
   ]
  },
  {
   "cell_type": "code",
   "execution_count": null,
   "id": "4a3f3fee",
   "metadata": {
    "papermill": {
     "duration": 50.555178,
     "end_time": "2024-06-03T11:19:54.481352",
     "exception": false,
     "start_time": "2024-06-03T11:19:03.926174",
     "status": "completed"
    },
    "tags": []
   },
   "outputs": [],
   "source": [
    "best_model = grid_search.best_estimator_\n",
    "best_model.fit(X, y)"
   ]
  },
  {
   "cell_type": "markdown",
   "id": "cb6f86af",
   "metadata": {
    "papermill": {
     "duration": 0.009855,
     "end_time": "2024-06-03T11:19:54.501434",
     "exception": false,
     "start_time": "2024-06-03T11:19:54.491579",
     "status": "completed"
    },
    "tags": []
   },
   "source": [
    "# Predict on the test data"
   ]
  },
  {
   "cell_type": "code",
   "execution_count": null,
   "id": "3503f1f1",
   "metadata": {
    "papermill": {
     "duration": 0.683002,
     "end_time": "2024-06-03T11:19:55.194493",
     "exception": false,
     "start_time": "2024-06-03T11:19:54.511491",
     "status": "completed"
    },
    "tags": []
   },
   "outputs": [],
   "source": [
    "test_X = test_df.drop(columns=['id'])\n",
    "test_preds = best_model.predict(test_X)"
   ]
  },
  {
   "cell_type": "markdown",
   "id": "752429b7",
   "metadata": {
    "papermill": {
     "duration": 0.010818,
     "end_time": "2024-06-03T11:19:55.215810",
     "exception": false,
     "start_time": "2024-06-03T11:19:55.204992",
     "status": "completed"
    },
    "tags": []
   },
   "source": [
    "# Create a submission file"
   ]
  },
  {
   "cell_type": "code",
   "execution_count": null,
   "id": "5ab266e3",
   "metadata": {
    "papermill": {
     "duration": 0.117489,
     "end_time": "2024-06-03T11:19:55.344212",
     "exception": false,
     "start_time": "2024-06-03T11:19:55.226723",
     "status": "completed"
    },
    "tags": []
   },
   "outputs": [],
   "source": [
    "submission = pd.DataFrame({'id': test_df['id'], 'price': test_preds})\n",
    "submission.to_csv('submission.csv', index=False)\n"
   ]
  },
  {
   "cell_type": "code",
   "execution_count": null,
   "id": "6d1792bb",
   "metadata": {
    "papermill": {
     "duration": 0.017848,
     "end_time": "2024-06-03T11:19:55.372612",
     "exception": false,
     "start_time": "2024-06-03T11:19:55.354764",
     "status": "completed"
    },
    "tags": []
   },
   "outputs": [],
   "source": [
    "print('Submission file created successfully.')"
   ]
  }
 ],
 "metadata": {
  "kaggle": {
   "accelerator": "gpu",
   "dataSources": [
    {
     "datasetId": 5130502,
     "sourceId": 8579068,
     "sourceType": "datasetVersion"
    }
   ],
   "dockerImageVersionId": 30716,
   "isGpuEnabled": true,
   "isInternetEnabled": true,
   "language": "python",
   "sourceType": "notebook"
  },
  "kernelspec": {
   "display_name": "Python 3 (ipykernel)",
   "language": "python",
   "name": "python3"
  },
  "language_info": {
   "codemirror_mode": {
    "name": "ipython",
    "version": 3
   },
   "file_extension": ".py",
   "mimetype": "text/x-python",
   "name": "python",
   "nbconvert_exporter": "python",
   "pygments_lexer": "ipython3",
   "version": "3.12.3"
  },
  "papermill": {
   "default_parameters": {},
   "duration": 28860.690038,
   "end_time": "2024-06-03T11:19:55.976633",
   "environment_variables": {},
   "exception": null,
   "input_path": "__notebook__.ipynb",
   "output_path": "__notebook__.ipynb",
   "parameters": {},
   "start_time": "2024-06-03T03:18:55.286595",
   "version": "2.5.0"
  }
 },
 "nbformat": 4,
 "nbformat_minor": 5
}
