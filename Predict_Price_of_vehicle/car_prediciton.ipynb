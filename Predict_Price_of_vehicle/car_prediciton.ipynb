{
 "cells": [
  {
   "cell_type": "code",
   "execution_count": 5,
   "id": "f9d16e41-db7b-4bfe-8a9d-f53173c55992",
   "metadata": {},
   "outputs": [],
   "source": [
    "import pandas as pd\n",
    "import numpy as np\n",
    "from sklearn.ensemble import RandomForestRegressor, GradientBoostingRegressor\n",
    "from sklearn.model_selection import train_test_split, GridSearchCV, cross_val_score\n",
    "from sklearn.metrics import mean_squared_error\n",
    "import xgboost as xgb"
   ]
  },
  {
   "cell_type": "code",
   "execution_count": 2,
   "id": "1a539ba5-ec8d-4857-8b7a-c6aa383fa11f",
   "metadata": {},
   "outputs": [],
   "source": [
    "# Load the datasets\n",
    "train_df = pd.read_csv('train.csv')\n",
    "test_df = pd.read_csv('test.csv')"
   ]
  },
  {
   "cell_type": "code",
   "execution_count": 7,
   "id": "293b7cb8-0420-4d92-b84b-cbcccbf71c47",
   "metadata": {},
   "outputs": [],
   "source": [
    "# Separate numerical and categorical columns\n",
    "numerical_cols = train_df.select_dtypes(include=['int64', 'float64']).columns\n",
    "categorical_cols = train_df.select_dtypes(include=['object']).columns"
   ]
  },
  {
   "cell_type": "code",
   "execution_count": 8,
   "id": "d5272c06-c4d5-4092-ac1a-896df47971f7",
   "metadata": {},
   "outputs": [],
   "source": [
    "# Fill missing values for numerical columns\n",
    "train_df[numerical_cols] = train_df[numerical_cols].fillna(train_df[numerical_cols].median())\n",
    "test_df[numerical_cols] = test_df[numerical_cols].fillna(test_df[numerical_cols].median())\n"
   ]
  },
  {
   "cell_type": "code",
   "execution_count": 9,
   "id": "16cca366-26b4-4718-ba1d-f80c7c9de591",
   "metadata": {},
   "outputs": [],
   "source": [
    "# Fill missing values for categorical columns\n",
    "train_df[categorical_cols] = train_df[categorical_cols].fillna('Unknown')\n",
    "test_df[categorical_cols] = test_df[categorical_cols].fillna('Unknown')"
   ]
  },
  {
   "cell_type": "code",
   "execution_count": 10,
   "id": "209db648-5146-4007-b33f-1ca304b31158",
   "metadata": {},
   "outputs": [],
   "source": [
    "# Convert categorical variables to dummy/indicator variables\n",
    "train_df = pd.get_dummies(train_df)\n",
    "test_df = pd.get_dummies(test_df)"
   ]
  },
  {
   "cell_type": "code",
   "execution_count": 11,
   "id": "f60b4162-a01a-4716-b1c6-5db57c92380f",
   "metadata": {},
   "outputs": [],
   "source": [
    "# Ensure the train and test datasets have the same columns\n",
    "train_df, test_df = train_df.align(test_df, join='left', axis=1)\n",
    "test_df.fillna(0, inplace=True)"
   ]
  },
  {
   "cell_type": "code",
   "execution_count": 13,
   "id": "37834a24-99a5-47b5-adc8-bd47943f2992",
   "metadata": {},
   "outputs": [],
   "source": [
    "# Create new feature: car_age\n",
    "train_df['car_age'] = 2024 - train_df['model_year']\n",
    "test_df['car_age'] = 2024 - test_df['model_year']\n",
    "train_df.drop(['model_year'], axis=1, inplace=True)\n",
    "test_df.drop(['model_year'], axis=1, inplace=True)"
   ]
  },
  {
   "cell_type": "code",
   "execution_count": 14,
   "id": "3a2ae6d6-294d-4e35-99ea-16409e3984fa",
   "metadata": {},
   "outputs": [],
   "source": [
    "# Features and target\n",
    "X = train_df.drop('price', axis=1)\n",
    "y = train_df['price']"
   ]
  },
  {
   "cell_type": "code",
   "execution_count": 15,
   "id": "e339809c-c2fa-4c48-a899-766f04980328",
   "metadata": {},
   "outputs": [],
   "source": [
    "# Split into training and validation sets\n",
    "X_train, X_val, y_train, y_val = train_test_split(X, y, test_size=0.2, random_state=42)\n"
   ]
  },
  {
   "cell_type": "code",
   "execution_count": 16,
   "id": "ee3d10b5-56ec-46a1-90ef-9b597bdfc3ed",
   "metadata": {},
   "outputs": [],
   "source": [
    "# Initialize and train the models\n",
    "rf_model = RandomForestRegressor(random_state=42)\n",
    "gb_model = GradientBoostingRegressor(random_state=42)\n",
    "xgb_model = xgb.XGBRegressor(random_state=42)"
   ]
  },
  {
   "cell_type": "code",
   "execution_count": 17,
   "id": "c6dfd58a-3495-4149-b307-87255cd973ef",
   "metadata": {},
   "outputs": [],
   "source": [
    "# Create a function to evaluate models using cross-validation\n",
    "def evaluate_model(model, X_train, y_train):\n",
    "    scores = cross_val_score(model, X_train, y_train, scoring='neg_root_mean_squared_error', cv=5)\n",
    "    return -scores.mean()"
   ]
  },
  {
   "cell_type": "code",
   "execution_count": null,
   "id": "0ed4d953-a703-4c84-a57b-f22db7902a0c",
   "metadata": {},
   "outputs": [],
   "source": [
    "# Evaluate models\n",
    "rf_rmse = evaluate_model(rf_model, X_train, y_train)\n",
    "gb_rmse = evaluate_model(gb_model, X_train, y_train)\n",
    "xgb_rmse = evaluate_model(xgb_model, X_train, y_train)\n",
    "\n",
    "print(f'Random Forest RMSE: {rf_rmse}')\n",
    "print(f'Gradient Boosting RMSE: {gb_rmse}')\n",
    "print(f'XGBoost RMSE: {xgb_rmse}')"
   ]
  },
  {
   "cell_type": "code",
   "execution_count": null,
   "id": "d3fa74e4-7731-4697-8480-a7d9a0ec063c",
   "metadata": {},
   "outputs": [],
   "source": [
    "# Hyperparameter tuning for the best model (assuming XGBoost is the best model here)\n",
    "param_grid = {\n",
    "    'n_estimators': [100, 200, 300],\n",
    "    'max_depth': [3, 5, 7],\n",
    "    'learning_rate': [0.01, 0.1, 0.3]\n",
    "}\n",
    "\n",
    "grid_search = GridSearchCV(estimator=xgb_model, param_grid=param_grid, cv=3, scoring='neg_root_mean_squared_error')\n",
    "grid_search.fit(X_train, y_train)"
   ]
  },
  {
   "cell_type": "code",
   "execution_count": null,
   "id": "d3bd8b51-c140-45a6-b167-2324d3193106",
   "metadata": {},
   "outputs": [],
   "source": [
    "# Best parameters and best score\n",
    "print(f'Best parameters: {grid_search.best_params_}')\n",
    "print(f'Best score (negative RMSE): {grid_search.best_score_}')"
   ]
  },
  {
   "cell_type": "code",
   "execution_count": null,
   "id": "36f261a7-cf35-4bbb-8284-20599456e8d3",
   "metadata": {},
   "outputs": [],
   "source": [
    "# Use the best estimator for predictions\n",
    "best_model = grid_search.best_estimator_\n",
    "best_model.fit(X_train, y_train)\n",
    "y_pred = best_model.predict(X_val)"
   ]
  },
  {
   "cell_type": "code",
   "execution_count": null,
   "id": "5a33836e-0a13-43c8-9e20-b3e8558ff846",
   "metadata": {},
   "outputs": [],
   "source": [
    "# Calculate RMSE for the best model\n",
    "rmse = np.sqrt(mean_squared_error(y_val, y_pred))\n",
    "print(f'Optimized Root Mean Squared Error: {rmse}')"
   ]
  },
  {
   "cell_type": "code",
   "execution_count": null,
   "id": "e5a7961e-5244-44fe-8e13-d9397bd48927",
   "metadata": {},
   "outputs": [],
   "source": [
    "# Predict on the test data\n",
    "test_predictions = best_model.predict(test_df)"
   ]
  },
  {
   "cell_type": "code",
   "execution_count": null,
   "id": "04a655b2-46f0-49d7-815c-43181de7f955",
   "metadata": {},
   "outputs": [],
   "source": [
    "# Create a DataFrame for submission\n",
    "submission = pd.DataFrame({\n",
    "    'Id': test_df.index,  # Assuming the index should be used for Id\n",
    "    'Price': test_predictions\n",
    "})"
   ]
  },
  {
   "cell_type": "code",
   "execution_count": null,
   "id": "4d49c2fa-7055-4edc-8a06-e19cc0e30700",
   "metadata": {},
   "outputs": [],
   "source": [
    "# Save the submission to a CSV file\n",
    "submission.to_csv('submission.csv', index=False)"
   ]
  }
 ],
 "metadata": {
  "kernelspec": {
   "display_name": "Python 3 (ipykernel)",
   "language": "python",
   "name": "python3"
  },
  "language_info": {
   "codemirror_mode": {
    "name": "ipython",
    "version": 3
   },
   "file_extension": ".py",
   "mimetype": "text/x-python",
   "name": "python",
   "nbconvert_exporter": "python",
   "pygments_lexer": "ipython3",
   "version": "3.12.3"
  }
 },
 "nbformat": 4,
 "nbformat_minor": 5
}
